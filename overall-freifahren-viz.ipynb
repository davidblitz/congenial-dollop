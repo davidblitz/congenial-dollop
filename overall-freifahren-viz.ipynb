{
 "cells": [
  {
   "cell_type": "code",
   "execution_count": 1,
   "metadata": {},
   "outputs": [],
   "source": [
    "import re\n",
    "import json\n",
    "import datetime\n",
    "from collections import Counter\n",
    "\n",
    "import pandas as pd\n",
    "from pandas.io.json import json_normalize\n",
    "\n",
    "import matplotlib\n",
    "from matplotlib import pyplot as plt\n",
    "import seaborn as sns"
   ]
  },
  {
   "cell_type": "code",
   "execution_count": 2,
   "metadata": {},
   "outputs": [
    {
     "ename": "FileNotFoundError",
     "evalue": "[Errno 2] No such file or directory: 'data/messages.json'",
     "output_type": "error",
     "traceback": [
      "\u001b[0;31m---------------------------------------------------------------------------\u001b[0m",
      "\u001b[0;31mFileNotFoundError\u001b[0m                         Traceback (most recent call last)",
      "\u001b[0;32m<ipython-input-2-748783b5d1f7>\u001b[0m in \u001b[0;36m<module>\u001b[0;34m\u001b[0m\n\u001b[0;32m----> 1\u001b[0;31m \u001b[0;32mwith\u001b[0m \u001b[0mopen\u001b[0m\u001b[0;34m(\u001b[0m\u001b[0;34m\"data/messages.json\"\u001b[0m\u001b[0;34m,\u001b[0m \u001b[0;34m\"r\"\u001b[0m\u001b[0;34m)\u001b[0m \u001b[0;32mas\u001b[0m \u001b[0mfp\u001b[0m\u001b[0;34m:\u001b[0m\u001b[0;34m\u001b[0m\u001b[0;34m\u001b[0m\u001b[0m\n\u001b[0m\u001b[1;32m      2\u001b[0m     \u001b[0mmsgdict\u001b[0m \u001b[0;34m=\u001b[0m \u001b[0mjson\u001b[0m\u001b[0;34m.\u001b[0m\u001b[0mloads\u001b[0m\u001b[0;34m(\u001b[0m\u001b[0mfp\u001b[0m\u001b[0;34m.\u001b[0m\u001b[0mread\u001b[0m\u001b[0;34m(\u001b[0m\u001b[0;34m)\u001b[0m\u001b[0;34m)\u001b[0m\u001b[0;34m\u001b[0m\u001b[0;34m\u001b[0m\u001b[0m\n\u001b[1;32m      3\u001b[0m     \u001b[0mmsgdict\u001b[0m \u001b[0;34m=\u001b[0m \u001b[0mjson\u001b[0m\u001b[0;34m.\u001b[0m\u001b[0mloads\u001b[0m\u001b[0;34m(\u001b[0m\u001b[0mmsgdict\u001b[0m\u001b[0;34m)\u001b[0m\u001b[0;34m\u001b[0m\u001b[0;34m\u001b[0m\u001b[0m\n\u001b[1;32m      4\u001b[0m     \u001b[0mmessages\u001b[0m \u001b[0;34m=\u001b[0m \u001b[0mpd\u001b[0m\u001b[0;34m.\u001b[0m\u001b[0mDataFrame\u001b[0m\u001b[0;34m(\u001b[0m\u001b[0mmsgdict\u001b[0m\u001b[0;34m)\u001b[0m\u001b[0;34m.\u001b[0m\u001b[0msort_values\u001b[0m\u001b[0;34m(\u001b[0m\u001b[0mby\u001b[0m \u001b[0;34m=\u001b[0m \u001b[0;34m\"id\"\u001b[0m\u001b[0;34m)\u001b[0m\u001b[0;34m\u001b[0m\u001b[0;34m\u001b[0m\u001b[0m\n",
      "\u001b[0;31mFileNotFoundError\u001b[0m: [Errno 2] No such file or directory: 'data/messages.json'"
     ]
    }
   ],
   "source": [
    "with open(\"data/messages.json\", \"r\") as fp:\n",
    "    msgdict = json.loads(fp.read())\n",
    "    msgdict = json.loads(msgdict)\n",
    "    messages = pd.DataFrame(msgdict).sort_values(by = \"id\")"
   ]
  },
  {
   "cell_type": "code",
   "execution_count": 3,
   "metadata": {},
   "outputs": [
    {
     "data": {
      "text/html": [
       "<div>\n",
       "<style scoped>\n",
       "    .dataframe tbody tr th:only-of-type {\n",
       "        vertical-align: middle;\n",
       "    }\n",
       "\n",
       "    .dataframe tbody tr th {\n",
       "        vertical-align: top;\n",
       "    }\n",
       "\n",
       "    .dataframe thead th {\n",
       "        text-align: right;\n",
       "    }\n",
       "</style>\n",
       "<table border=\"1\" class=\"dataframe\">\n",
       "  <thead>\n",
       "    <tr style=\"text-align: right;\">\n",
       "      <th></th>\n",
       "      <th>body</th>\n",
       "      <th>date</th>\n",
       "      <th>hour</th>\n",
       "      <th>id</th>\n",
       "      <th>timestamp</th>\n",
       "      <th>week</th>\n",
       "      <th>weekday</th>\n",
       "    </tr>\n",
       "  </thead>\n",
       "  <tbody>\n",
       "    <tr>\n",
       "      <th>12437</th>\n",
       "      <td>{\"users\": [132820308]}</td>\n",
       "      <td>2018-08-26</td>\n",
       "      <td>10</td>\n",
       "      <td>12804</td>\n",
       "      <td>1535270511</td>\n",
       "      <td>34</td>\n",
       "      <td>6</td>\n",
       "    </tr>\n",
       "    <tr>\n",
       "      <th>12438</th>\n",
       "      <td>S2 Richtung Buch</td>\n",
       "      <td>2018-08-26</td>\n",
       "      <td>11</td>\n",
       "      <td>12805</td>\n",
       "      <td>1535275453</td>\n",
       "      <td>34</td>\n",
       "      <td>6</td>\n",
       "    </tr>\n",
       "    <tr>\n",
       "      <th>12439</th>\n",
       "      <td></td>\n",
       "      <td>2018-08-26</td>\n",
       "      <td>11</td>\n",
       "      <td>12806</td>\n",
       "      <td>1535275544</td>\n",
       "      <td>34</td>\n",
       "      <td>6</td>\n",
       "    </tr>\n",
       "    <tr>\n",
       "      <th>12440</th>\n",
       "      <td>die beiden</td>\n",
       "      <td>2018-08-26</td>\n",
       "      <td>11</td>\n",
       "      <td>12807</td>\n",
       "      <td>1535275579</td>\n",
       "      <td>34</td>\n",
       "      <td>6</td>\n",
       "    </tr>\n",
       "    <tr>\n",
       "      <th>12441</th>\n",
       "      <td>S42 Landsberger Allee Insgesamt 3-4 männlich g...</td>\n",
       "      <td>2018-08-26</td>\n",
       "      <td>12</td>\n",
       "      <td>12808</td>\n",
       "      <td>1535279636</td>\n",
       "      <td>34</td>\n",
       "      <td>6</td>\n",
       "    </tr>\n",
       "  </tbody>\n",
       "</table>\n",
       "</div>"
      ],
      "text/plain": [
       "                                                    body        date hour  \\\n",
       "12437                             {\"users\": [132820308]}  2018-08-26   10   \n",
       "12438                                   S2 Richtung Buch  2018-08-26   11   \n",
       "12439                                                     2018-08-26   11   \n",
       "12440                                         die beiden  2018-08-26   11   \n",
       "12441  S42 Landsberger Allee Insgesamt 3-4 männlich g...  2018-08-26   12   \n",
       "\n",
       "          id   timestamp  week  weekday  \n",
       "12437  12804  1535270511    34        6  \n",
       "12438  12805  1535275453    34        6  \n",
       "12439  12806  1535275544    34        6  \n",
       "12440  12807  1535275579    34        6  \n",
       "12441  12808  1535279636    34        6  "
      ]
     },
     "execution_count": 3,
     "metadata": {},
     "output_type": "execute_result"
    }
   ],
   "source": [
    "messages.tail()"
   ]
  },
  {
   "cell_type": "markdown",
   "metadata": {},
   "source": [
    "# Overall Counts"
   ]
  },
  {
   "cell_type": "code",
   "execution_count": 4,
   "metadata": {},
   "outputs": [
    {
     "name": "stdout",
     "output_type": "stream",
     "text": [
      "['S3', 'S5', 's7', 's9']\n"
     ]
    }
   ],
   "source": [
    "regexp = re.compile(\"(?<!\\w)([MUS]\\W?\\d+)(?:\\W|$)\", re.I)\n",
    "print(regexp.findall(\" S3/S5/s7/s9\"))"
   ]
  },
  {
   "cell_type": "code",
   "execution_count": 5,
   "metadata": {},
   "outputs": [],
   "source": [
    "totalmatches = Counter()\n",
    "\n",
    "bins = {\n",
    "    'S41': 'Ring',\n",
    "    'S42': 'Ring',\n",
    "    'S1': 'S12',\n",
    "    'S12': 'S12',\n",
    "    'S19': 'S12',\n",
    "    'S2': 'S12',\n",
    "    'S21': 'S12',\n",
    "    'S25': 'S12',\n",
    "    'S26': 'S12',\n",
    "    'S3': 'S3579',\n",
    "    'S45': 'Ring',\n",
    "    'S46': 'Ring',\n",
    "    'S47': 'Ring',\n",
    "    'S48': 'Ring',\n",
    "    'S5': 'S3579',\n",
    "    'S7': 'S3579',\n",
    "    'S75': 'S3579',\n",
    "    'S8': 'Ring',\n",
    "    'S85': 'Ring',\n",
    "    'S9': 'S3579',\n",
    "}\n",
    "\n",
    "\n",
    "for row in messages.iterrows():\n",
    "    rowbody = row[1][\"body\"]\n",
    "    rowmatches = regexp.findall(rowbody)\n",
    "\n",
    "    #print(rowbody)\n",
    "    #print(rowmatches)\n",
    "    for match in rowmatches:\n",
    "        m = re.sub(r'[\\W]', \"\", match).upper()\n",
    "        totalmatches[bins.get(m, m)] += 1\n",
    "        break"
   ]
  },
  {
   "cell_type": "code",
   "execution_count": 6,
   "metadata": {},
   "outputs": [],
   "source": [
    "total_control_count = sum([val for key, val in totalmatches.items()])"
   ]
  },
  {
   "cell_type": "code",
   "execution_count": 7,
   "metadata": {},
   "outputs": [
    {
     "data": {
      "text/plain": [
       "3279"
      ]
     },
     "execution_count": 7,
     "metadata": {},
     "output_type": "execute_result"
    }
   ],
   "source": [
    "total_control_count"
   ]
  },
  {
   "cell_type": "code",
   "execution_count": 8,
   "metadata": {},
   "outputs": [
    {
     "data": {
      "text/plain": [
       "39"
      ]
     },
     "execution_count": 8,
     "metadata": {},
     "output_type": "execute_result"
    }
   ],
   "source": [
    "len(totalmatches)"
   ]
  },
  {
   "cell_type": "code",
   "execution_count": 9,
   "metadata": {},
   "outputs": [
    {
     "data": {
      "text/plain": [
       "Counter({'M1': 51,\n",
       "         'M10': 286,\n",
       "         'M11': 1,\n",
       "         'M12': 4,\n",
       "         'M13': 45,\n",
       "         'M16': 1,\n",
       "         'M17': 8,\n",
       "         'M19': 6,\n",
       "         'M2': 13,\n",
       "         'M21': 3,\n",
       "         'M25': 1,\n",
       "         'M27': 2,\n",
       "         'M29': 25,\n",
       "         'M4': 22,\n",
       "         'M41': 15,\n",
       "         'M44': 6,\n",
       "         'M45': 5,\n",
       "         'M46': 7,\n",
       "         'M48': 4,\n",
       "         'M49': 2,\n",
       "         'M5': 4,\n",
       "         'M6': 8,\n",
       "         'M76': 1,\n",
       "         'M77': 1,\n",
       "         'M8': 13,\n",
       "         'M85': 5,\n",
       "         'Ring': 765,\n",
       "         'S09': 2,\n",
       "         'S12': 254,\n",
       "         'S3579': 443,\n",
       "         'U1': 239,\n",
       "         'U2': 162,\n",
       "         'U3': 70,\n",
       "         'U4': 4,\n",
       "         'U5': 39,\n",
       "         'U6': 134,\n",
       "         'U7': 237,\n",
       "         'U8': 295,\n",
       "         'U9': 96})"
      ]
     },
     "execution_count": 9,
     "metadata": {},
     "output_type": "execute_result"
    }
   ],
   "source": [
    "totalmatches"
   ]
  },
  {
   "cell_type": "code",
   "execution_count": 10,
   "metadata": {},
   "outputs": [],
   "source": [
    "sorted_totalmatches = sorted(list(totalmatches.items()), key=lambda tup: -tup[1])"
   ]
  },
  {
   "cell_type": "code",
   "execution_count": 11,
   "metadata": {},
   "outputs": [],
   "source": [
    "overall_top_10 = sorted_totalmatches[:10]"
   ]
  },
  {
   "cell_type": "code",
   "execution_count": 12,
   "metadata": {},
   "outputs": [
    {
     "data": {
      "text/plain": [
       "[('Ring', 765),\n",
       " ('S3579', 443),\n",
       " ('U8', 295),\n",
       " ('M10', 286),\n",
       " ('S12', 254),\n",
       " ('U1', 239),\n",
       " ('U7', 237),\n",
       " ('U2', 162),\n",
       " ('U6', 134),\n",
       " ('U9', 96)]"
      ]
     },
     "execution_count": 12,
     "metadata": {},
     "output_type": "execute_result"
    }
   ],
   "source": [
    "overall_top_10"
   ]
  },
  {
   "cell_type": "code",
   "execution_count": 13,
   "metadata": {},
   "outputs": [
    {
     "data": {
      "text/plain": [
       "<matplotlib.axes._subplots.AxesSubplot at 0x7f43ab2247b8>"
      ]
     },
     "execution_count": 13,
     "metadata": {},
     "output_type": "execute_result"
    },
    {
     "data": {
      "image/png": "[encoded data removed]",
      "text/plain": [
       "<Figure size 432x288 with 1 Axes>"
      ]
     },
     "metadata": {},
     "output_type": "display_data"
    }
   ],
   "source": [
    "lines = [el[0] for el in overall_top_10]\n",
    "count = [el[1] for el in overall_top_10]\n",
    "sns.barplot(x=lines, y=count, color=\"green\")"
   ]
  },
  {
   "cell_type": "code",
   "execution_count": 14,
   "metadata": {},
   "outputs": [],
   "source": [
    "sbahncounts = list(filter(lambda tup: tup[0][0] == \"S\" or tup[0] == \"Ring\", sorted_totalmatches))[:10]"
   ]
  },
  {
   "cell_type": "code",
   "execution_count": 15,
   "metadata": {},
   "outputs": [
    {
     "data": {
      "text/plain": [
       "<matplotlib.axes._subplots.AxesSubplot at 0x7f43a90a4160>"
      ]
     },
     "execution_count": 15,
     "metadata": {},
     "output_type": "execute_result"
    },
    {
     "data": {
      "image/png": "[encoded data removed]",
      "text/plain": [
       "<Figure size 432x288 with 1 Axes>"
      ]
     },
     "metadata": {},
     "output_type": "display_data"
    }
   ],
   "source": [
    "lines = [el[0] for el in sbahncounts]\n",
    "count = [el[1] for el in sbahncounts]\n",
    "sns.barplot(x=lines, y=count, color=\"darkred\")"
   ]
  },
  {
   "cell_type": "code",
   "execution_count": 16,
   "metadata": {},
   "outputs": [
    {
     "data": {
      "text/plain": [
       "1464"
      ]
     },
     "execution_count": 16,
     "metadata": {},
     "output_type": "execute_result"
    }
   ],
   "source": [
    "sum(count)"
   ]
  },
  {
   "cell_type": "code",
   "execution_count": 17,
   "metadata": {},
   "outputs": [],
   "source": [
    "tramcounts = list(filter(lambda tup: tup[0][0] == \"M\", sorted_totalmatches))[:10]"
   ]
  },
  {
   "cell_type": "code",
   "execution_count": 18,
   "metadata": {},
   "outputs": [
    {
     "data": {
      "text/plain": [
       "<matplotlib.axes._subplots.AxesSubplot at 0x7f43a9070048>"
      ]
     },
     "execution_count": 18,
     "metadata": {},
     "output_type": "execute_result"
    },
    {
     "data": {
      "image/png": "[encoded data removed]",
      "text/plain": [
       "<Figure size 432x288 with 1 Axes>"
      ]
     },
     "metadata": {},
     "output_type": "display_data"
    }
   ],
   "source": [
    "lines = [el[0] for el in tramcounts]\n",
    "count = [el[1] for el in tramcounts]\n",
    "sns.barplot(x=lines, y=count, color=\"yellow\")"
   ]
  },
  {
   "cell_type": "code",
   "execution_count": 19,
   "metadata": {},
   "outputs": [],
   "source": [
    "ubahncounts = list(filter(lambda tup: tup[0][0] == \"U\", sorted_totalmatches))[:10]"
   ]
  },
  {
   "cell_type": "code",
   "execution_count": 20,
   "metadata": {},
   "outputs": [
    {
     "data": {
      "text/plain": [
       "<matplotlib.axes._subplots.AxesSubplot at 0x7f43a902d908>"
      ]
     },
     "execution_count": 20,
     "metadata": {},
     "output_type": "execute_result"
    },
    {
     "data": {
      "image/png": "[encoded data removed]",
      "text/plain": [
       "<Figure size 432x288 with 1 Axes>"
      ]
     },
     "metadata": {},
     "output_type": "display_data"
    }
   ],
   "source": [
    "lines = [el[0] for el in ubahncounts]\n",
    "count = [el[1] for el in ubahncounts]\n",
    "sns.barplot(x=lines, y=count, color=\"lightblue\")"
   ]
  },
  {
   "cell_type": "code",
   "execution_count": 21,
   "metadata": {},
   "outputs": [
    {
     "data": {
      "text/plain": [
       "1276"
      ]
     },
     "execution_count": 21,
     "metadata": {},
     "output_type": "execute_result"
    }
   ],
   "source": [
    "sum(count)"
   ]
  },
  {
   "cell_type": "code",
   "execution_count": 91,
   "metadata": {},
   "outputs": [],
   "source": [
    "#TODO\n",
    "#match stations\n",
    "#version control"
   ]
  },
  {
   "cell_type": "code",
   "execution_count": null,
   "metadata": {},
   "outputs": [],
   "source": []
  }
 ],
 "metadata": {
  "kernelspec": {
   "display_name": "Python 3",
   "language": "python",
   "name": "python3"
  },
  "language_info": {
   "codemirror_mode": {
    "name": "ipython",
    "version": 3
   },
   "file_extension": ".py",
   "mimetype": "text/x-python",
   "name": "python",
   "nbconvert_exporter": "python",
   "pygments_lexer": "ipython3",
   "version": "3.7.3"
  }
 },
 "nbformat": 4,
 "nbformat_minor": 2
}
