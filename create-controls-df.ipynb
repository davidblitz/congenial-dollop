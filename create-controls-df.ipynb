{
 "cells": [
  {
   "cell_type": "code",
   "execution_count": 4,
   "metadata": {},
   "outputs": [],
   "source": [
    "import re\n",
    "\n",
    "import pandas as pd\n",
    "\n",
    "%matplotlib inline\n",
    "import matplotlib.pyplot as plt"
   ]
  },
  {
   "cell_type": "code",
   "execution_count": 5,
   "metadata": {},
   "outputs": [],
   "source": [
    "plt.rcParams['figure.figsize'] = (15, 5)"
   ]
  },
  {
   "cell_type": "code",
   "execution_count": 40,
   "metadata": {},
   "outputs": [],
   "source": [
    "msg_df = pd.read_csv('data/freifahren.tsv', encoding='utf-16', sep='\\t', \n",
    "                     header=None, \n",
    "                     names=['timestamp', 'username', 'forward', 'type', 'text'])[['timestamp', 'type', 'text']]"
   ]
  },
  {
   "cell_type": "code",
   "execution_count": 41,
   "metadata": {},
   "outputs": [],
   "source": [
    "msg_df = msg_df[msg_df.type != '<call>']"
   ]
  },
  {
   "cell_type": "code",
   "execution_count": 42,
   "metadata": {
    "scrolled": true
   },
   "outputs": [
    {
     "data": {
      "text/html": [
       "<div>\n",
       "<style scoped>\n",
       "    .dataframe tbody tr th:only-of-type {\n",
       "        vertical-align: middle;\n",
       "    }\n",
       "\n",
       "    .dataframe tbody tr th {\n",
       "        vertical-align: top;\n",
       "    }\n",
       "\n",
       "    .dataframe thead th {\n",
       "        text-align: right;\n",
       "    }\n",
       "</style>\n",
       "<table border=\"1\" class=\"dataframe\">\n",
       "  <thead>\n",
       "    <tr style=\"text-align: right;\">\n",
       "      <th></th>\n",
       "      <th>timestamp</th>\n",
       "      <th>type</th>\n",
       "      <th>text</th>\n",
       "    </tr>\n",
       "  </thead>\n",
       "  <tbody>\n",
       "    <tr>\n",
       "      <th>count</th>\n",
       "      <td>49291</td>\n",
       "      <td>49291</td>\n",
       "      <td>49291</td>\n",
       "    </tr>\n",
       "    <tr>\n",
       "      <th>unique</th>\n",
       "      <td>48479</td>\n",
       "      <td>2</td>\n",
       "      <td>43688</td>\n",
       "    </tr>\n",
       "    <tr>\n",
       "      <th>top</th>\n",
       "      <td>26.09.2018 21:30:54</td>\n",
       "      <td>&lt;msg&gt;</td>\n",
       "      <td>[Photo]</td>\n",
       "    </tr>\n",
       "    <tr>\n",
       "      <th>freq</th>\n",
       "      <td>5</td>\n",
       "      <td>45390</td>\n",
       "      <td>3052</td>\n",
       "    </tr>\n",
       "  </tbody>\n",
       "</table>\n",
       "</div>"
      ],
      "text/plain": [
       "                  timestamp   type     text\n",
       "count                 49291  49291    49291\n",
       "unique                48479      2    43688\n",
       "top     26.09.2018 21:30:54  <msg>  [Photo]\n",
       "freq                      5  45390     3052"
      ]
     },
     "execution_count": 42,
     "metadata": {},
     "output_type": "execute_result"
    }
   ],
   "source": [
    "msg_df.describe()"
   ]
  },
  {
   "cell_type": "code",
   "execution_count": 44,
   "metadata": {},
   "outputs": [],
   "source": [
    "regexp = re.compile(\"(?:^|\\W)([mMsSuU][\\W]{0,1}[1-9][\\d]*)(?:\\W|$)\")"
   ]
  },
  {
   "cell_type": "code",
   "execution_count": 45,
   "metadata": {},
   "outputs": [],
   "source": [
    "msg_df[\"line\"] = msg_df.text.apply(lambda txt: regexp.findall(txt))"
   ]
  },
  {
   "cell_type": "code",
   "execution_count": 46,
   "metadata": {},
   "outputs": [
    {
     "data": {
      "text/plain": [
       "[]           29082\n",
       "[U8]          2273\n",
       "[U7]          1369\n",
       "[U6]          1110\n",
       "[u8]          1068\n",
       "             ...  \n",
       "[u6, u 7]        1\n",
       "[U8, u7]         1\n",
       "[M5, M4]         1\n",
       "[S42, U7]        1\n",
       "[m49]            1\n",
       "Name: line, Length: 423, dtype: int64"
      ]
     },
     "execution_count": 46,
     "metadata": {},
     "output_type": "execute_result"
    }
   ],
   "source": [
    "msg_df.line.value_counts()"
   ]
  },
  {
   "cell_type": "code",
   "execution_count": 47,
   "metadata": {},
   "outputs": [],
   "source": [
    "msg_df = msg_df[[type(lines) == list and len(lines) > 0 for lines in msg_df.line]]"
   ]
  },
  {
   "cell_type": "code",
   "execution_count": 48,
   "metadata": {},
   "outputs": [
    {
     "name": "stderr",
     "output_type": "stream",
     "text": [
      "/home/user/coding-2019/freifahren-reloaded/myvenv/lib/python3.7/site-packages/pandas/core/generic.py:5208: SettingWithCopyWarning: \n",
      "A value is trying to be set on a copy of a slice from a DataFrame.\n",
      "Try using .loc[row_indexer,col_indexer] = value instead\n",
      "\n",
      "See the caveats in the documentation: http://pandas.pydata.org/pandas-docs/stable/user_guide/indexing.html#returning-a-view-versus-a-copy\n",
      "  self[name] = value\n"
     ]
    }
   ],
   "source": [
    "msg_df.line = [re.sub(r'[\\W]', \"\", lines[0]).upper() for lines in msg_df.line]"
   ]
  },
  {
   "cell_type": "code",
   "execution_count": 49,
   "metadata": {},
   "outputs": [
    {
     "data": {
      "text/plain": [
       "U8       3523\n",
       "U7       2134\n",
       "U6       1655\n",
       "U1       1385\n",
       "U2       1151\n",
       "         ... \n",
       "U1351       1\n",
       "M77         1\n",
       "M76         1\n",
       "S19         1\n",
       "S6          1\n",
       "Name: line, Length: 65, dtype: int64"
      ]
     },
     "execution_count": 49,
     "metadata": {},
     "output_type": "execute_result"
    }
   ],
   "source": [
    "msg_df.line.value_counts()"
   ]
  },
  {
   "cell_type": "code",
   "execution_count": 50,
   "metadata": {},
   "outputs": [
    {
     "name": "stderr",
     "output_type": "stream",
     "text": [
      "/home/user/coding-2019/freifahren-reloaded/myvenv/lib/python3.7/site-packages/ipykernel_launcher.py:1: SettingWithCopyWarning: \n",
      "A value is trying to be set on a copy of a slice from a DataFrame.\n",
      "Try using .loc[row_indexer,col_indexer] = value instead\n",
      "\n",
      "See the caveats in the documentation: http://pandas.pydata.org/pandas-docs/stable/user_guide/indexing.html#returning-a-view-versus-a-copy\n",
      "  \"\"\"Entry point for launching an IPython kernel.\n"
     ]
    }
   ],
   "source": [
    "msg_df[\"line_type\"] = msg_df.line.apply(lambda line: line[0])"
   ]
  },
  {
   "cell_type": "code",
   "execution_count": 51,
   "metadata": {},
   "outputs": [
    {
     "data": {
      "text/html": [
       "<div>\n",
       "<style scoped>\n",
       "    .dataframe tbody tr th:only-of-type {\n",
       "        vertical-align: middle;\n",
       "    }\n",
       "\n",
       "    .dataframe tbody tr th {\n",
       "        vertical-align: top;\n",
       "    }\n",
       "\n",
       "    .dataframe thead th {\n",
       "        text-align: right;\n",
       "    }\n",
       "</style>\n",
       "<table border=\"1\" class=\"dataframe\">\n",
       "  <thead>\n",
       "    <tr style=\"text-align: right;\">\n",
       "      <th></th>\n",
       "      <th>timestamp</th>\n",
       "      <th>type</th>\n",
       "      <th>text</th>\n",
       "      <th>line</th>\n",
       "      <th>line_type</th>\n",
       "    </tr>\n",
       "  </thead>\n",
       "  <tbody>\n",
       "    <tr>\n",
       "      <th>49</th>\n",
       "      <td>15.02.2018 17:47:39</td>\n",
       "      <td>&lt;msg&gt;</td>\n",
       "      <td>S25 Oranienburgerstr. Richtung Süden</td>\n",
       "      <td>S25</td>\n",
       "      <td>S</td>\n",
       "    </tr>\n",
       "    <tr>\n",
       "      <th>62</th>\n",
       "      <td>15.02.2018 20:25:12</td>\n",
       "      <td>&lt;msg&gt;</td>\n",
       "      <td>Görli u1, richtung Warschauer ausgestiegen</td>\n",
       "      <td>U1</td>\n",
       "      <td>U</td>\n",
       "    </tr>\n",
       "    <tr>\n",
       "      <th>63</th>\n",
       "      <td>15.02.2018 21:20:00</td>\n",
       "      <td>&lt;msg&gt;</td>\n",
       "      <td>U1 Kurfürstenstraße Richtung Uhlandstr</td>\n",
       "      <td>U1</td>\n",
       "      <td>U</td>\n",
       "    </tr>\n",
       "    <tr>\n",
       "      <th>77</th>\n",
       "      <td>16.02.2018 13:12:04</td>\n",
       "      <td>&lt;msg&gt;</td>\n",
       "      <td>S3/S5/S7/S9: Berlin Hbf. Kontrolleure sind wei...</td>\n",
       "      <td>S3</td>\n",
       "      <td>S</td>\n",
       "    </tr>\n",
       "    <tr>\n",
       "      <th>78</th>\n",
       "      <td>16.02.2018 13:18:43</td>\n",
       "      <td>&lt;msg&gt;</td>\n",
       "      <td>Jmd heute schon die westliche u7 langgefahren ...</td>\n",
       "      <td>U7</td>\n",
       "      <td>U</td>\n",
       "    </tr>\n",
       "  </tbody>\n",
       "</table>\n",
       "</div>"
      ],
      "text/plain": [
       "              timestamp   type  \\\n",
       "49  15.02.2018 17:47:39  <msg>   \n",
       "62  15.02.2018 20:25:12  <msg>   \n",
       "63  15.02.2018 21:20:00  <msg>   \n",
       "77  16.02.2018 13:12:04  <msg>   \n",
       "78  16.02.2018 13:18:43  <msg>   \n",
       "\n",
       "                                                 text line line_type  \n",
       "49               S25 Oranienburgerstr. Richtung Süden  S25         S  \n",
       "62         Görli u1, richtung Warschauer ausgestiegen   U1         U  \n",
       "63             U1 Kurfürstenstraße Richtung Uhlandstr   U1         U  \n",
       "77  S3/S5/S7/S9: Berlin Hbf. Kontrolleure sind wei...   S3         S  \n",
       "78  Jmd heute schon die westliche u7 langgefahren ...   U7         U  "
      ]
     },
     "execution_count": 51,
     "metadata": {},
     "output_type": "execute_result"
    }
   ],
   "source": [
    "msg_df.head()"
   ]
  },
  {
   "cell_type": "code",
   "execution_count": 52,
   "metadata": {},
   "outputs": [],
   "source": [
    "msg_df.to_csv('data/controls.tsv', sep='\\t', encoding='utf-16')"
   ]
  },
  {
   "cell_type": "code",
   "execution_count": 53,
   "metadata": {},
   "outputs": [],
   "source": [
    "import re\n",
    "import json\n",
    "import datetime\n",
    "from collections import Counter\n",
    "\n",
    "import pandas as pd\n",
    "from pandas.io.json import json_normalize\n",
    "\n",
    "import matplotlib\n",
    "from matplotlib import pyplot as plt\n",
    "import seaborn as sns"
   ]
  },
  {
   "cell_type": "code",
   "execution_count": 54,
   "metadata": {},
   "outputs": [
    {
     "name": "stdout",
     "output_type": "stream",
     "text": [
      "['S3', 'S5', 's7', 's9']\n"
     ]
    }
   ],
   "source": [
    "regexp = re.compile(\"(?<!\\w)([MUS]\\W?\\d+)(?:\\W|$)\", re.I)\n",
    "print(regexp.findall(\" S3/S5/s7/s9\"))"
   ]
  },
  {
   "cell_type": "code",
   "execution_count": 55,
   "metadata": {},
   "outputs": [],
   "source": [
    "totalmatches = Counter()\n",
    "\n",
    "bins = {\n",
    "    'S41': 'Ring',\n",
    "    'S42': 'Ring',\n",
    "    'S1': 'S12',\n",
    "    'S12': 'S12',\n",
    "    'S19': 'S12',\n",
    "    'S2': 'S12',\n",
    "    'S21': 'S12',\n",
    "    'S25': 'S12',\n",
    "    'S26': 'S12',\n",
    "    'S3': 'S3579',\n",
    "    'S45': 'Ring',\n",
    "    'S46': 'Ring',\n",
    "    'S47': 'Ring',\n",
    "    'S48': 'Ring',\n",
    "    'S5': 'S3579',\n",
    "    'S7': 'S3579',\n",
    "    'S75': 'S3579',\n",
    "    'S8': 'Ring',\n",
    "    'S85': 'Ring',\n",
    "    'S9': 'S3579',\n",
    "}\n",
    "\n",
    "\n",
    "for row in msg_df.iterrows():\n",
    "    rowbody = row[1][\"text\"]\n",
    "    rowmatches = regexp.findall(rowbody)\n",
    "\n",
    "    #print(rowbody)\n",
    "    #print(rowmatches)\n",
    "    for match in rowmatches:\n",
    "        m = re.sub(r'[\\W]', \"\", match).upper()\n",
    "        totalmatches[bins.get(m, m)] += 1\n",
    "        break"
   ]
  },
  {
   "cell_type": "code",
   "execution_count": 56,
   "metadata": {},
   "outputs": [],
   "source": [
    "total_control_count = sum([val for key, val in totalmatches.items()])"
   ]
  },
  {
   "cell_type": "code",
   "execution_count": 57,
   "metadata": {},
   "outputs": [
    {
     "data": {
      "text/plain": [
       "20209"
      ]
     },
     "execution_count": 57,
     "metadata": {},
     "output_type": "execute_result"
    }
   ],
   "source": [
    "total_control_count"
   ]
  },
  {
   "cell_type": "code",
   "execution_count": 58,
   "metadata": {},
   "outputs": [
    {
     "data": {
      "text/plain": [
       "Counter({'S12': 1259,\n",
       "         'U1': 1385,\n",
       "         'S3579': 2198,\n",
       "         'U7': 2134,\n",
       "         'Ring': 2626,\n",
       "         'U3': 504,\n",
       "         'U8': 3523,\n",
       "         'U2': 1151,\n",
       "         'M13': 218,\n",
       "         'M10': 884,\n",
       "         'M2': 130,\n",
       "         'U6': 1655,\n",
       "         'M1': 178,\n",
       "         'M4': 139,\n",
       "         'U4': 42,\n",
       "         'U5': 747,\n",
       "         'U9': 1026,\n",
       "         'M45': 5,\n",
       "         'M29': 39,\n",
       "         'M19': 9,\n",
       "         'M85': 8,\n",
       "         'M46': 10,\n",
       "         'M12': 10,\n",
       "         'M17': 36,\n",
       "         'M5': 40,\n",
       "         'M6': 45,\n",
       "         'M48': 10,\n",
       "         'M41': 48,\n",
       "         'M21': 7,\n",
       "         'M27': 11,\n",
       "         'M44': 6,\n",
       "         'M49': 2,\n",
       "         'M8': 91,\n",
       "         'M25': 1,\n",
       "         'M77': 1,\n",
       "         'M76': 1,\n",
       "         'M11': 1,\n",
       "         'M16': 4,\n",
       "         'M50': 11,\n",
       "         'S421': 1,\n",
       "         'S4': 3,\n",
       "         'U10': 2,\n",
       "         'S24': 3,\n",
       "         'M37': 1,\n",
       "         'U25': 1,\n",
       "         'S6': 1,\n",
       "         'U42': 1,\n",
       "         'U1351': 1})"
      ]
     },
     "execution_count": 58,
     "metadata": {},
     "output_type": "execute_result"
    }
   ],
   "source": [
    "totalmatches"
   ]
  },
  {
   "cell_type": "code",
   "execution_count": 59,
   "metadata": {},
   "outputs": [],
   "source": [
    "sorted_totalmatches = sorted(list(totalmatches.items()), key=lambda tup: -tup[1])"
   ]
  },
  {
   "cell_type": "code",
   "execution_count": 60,
   "metadata": {},
   "outputs": [],
   "source": [
    "overall_top_10 = sorted_totalmatches[:10]"
   ]
  },
  {
   "cell_type": "code",
   "execution_count": 61,
   "metadata": {},
   "outputs": [
    {
     "data": {
      "text/plain": [
       "[('U8', 3523),\n",
       " ('Ring', 2626),\n",
       " ('S3579', 2198),\n",
       " ('U7', 2134),\n",
       " ('U6', 1655),\n",
       " ('U1', 1385),\n",
       " ('S12', 1259),\n",
       " ('U2', 1151),\n",
       " ('U9', 1026),\n",
       " ('M10', 884)]"
      ]
     },
     "execution_count": 61,
     "metadata": {},
     "output_type": "execute_result"
    }
   ],
   "source": [
    "overall_top_10"
   ]
  },
  {
   "cell_type": "code",
   "execution_count": 62,
   "metadata": {},
   "outputs": [
    {
     "data": {
      "text/plain": [
       "<matplotlib.axes._subplots.AxesSubplot at 0x7fb514f92630>"
      ]
     },
     "execution_count": 62,
     "metadata": {},
     "output_type": "execute_result"
    },
    {
     "data": {
      "image/png": "[encoded data removed]",
      "text/plain": [
       "<Figure size 1080x360 with 1 Axes>"
      ]
     },
     "metadata": {
      "needs_background": "light"
     },
     "output_type": "display_data"
    }
   ],
   "source": [
    "lines = [el[0] for el in overall_top_10]\n",
    "count = [el[1] for el in overall_top_10]\n",
    "sns.barplot(x=lines, y=count, color=\"green\")"
   ]
  },
  {
   "cell_type": "code",
   "execution_count": 63,
   "metadata": {},
   "outputs": [],
   "source": [
    "sbahncounts = list(filter(lambda tup: tup[0][0] == \"S\" or tup[0] == \"Ring\", sorted_totalmatches))[:10]"
   ]
  },
  {
   "cell_type": "code",
   "execution_count": 64,
   "metadata": {},
   "outputs": [
    {
     "data": {
      "text/plain": [
       "<matplotlib.axes._subplots.AxesSubplot at 0x7fb5150c39b0>"
      ]
     },
     "execution_count": 64,
     "metadata": {},
     "output_type": "execute_result"
    },
    {
     "data": {
      "image/png": "[encoded data removed]",
      "text/plain": [
       "<Figure size 1080x360 with 1 Axes>"
      ]
     },
     "metadata": {
      "needs_background": "light"
     },
     "output_type": "display_data"
    }
   ],
   "source": [
    "lines = [el[0] for el in sbahncounts]\n",
    "count = [el[1] for el in sbahncounts]\n",
    "sns.barplot(x=lines, y=count, color=\"darkred\")"
   ]
  },
  {
   "cell_type": "code",
   "execution_count": 65,
   "metadata": {},
   "outputs": [
    {
     "data": {
      "text/plain": [
       "6091"
      ]
     },
     "execution_count": 65,
     "metadata": {},
     "output_type": "execute_result"
    }
   ],
   "source": [
    "sum(count)"
   ]
  },
  {
   "cell_type": "code",
   "execution_count": 66,
   "metadata": {},
   "outputs": [],
   "source": [
    "tramcounts = list(filter(lambda tup: tup[0][0] == \"M\", sorted_totalmatches))[:10]"
   ]
  },
  {
   "cell_type": "code",
   "execution_count": 67,
   "metadata": {},
   "outputs": [
    {
     "data": {
      "text/plain": [
       "<matplotlib.axes._subplots.AxesSubplot at 0x7fb5136b90f0>"
      ]
     },
     "execution_count": 67,
     "metadata": {},
     "output_type": "execute_result"
    },
    {
     "data": {
      "image/png": "[encoded data removed]",
      "text/plain": [
       "<Figure size 1080x360 with 1 Axes>"
      ]
     },
     "metadata": {
      "needs_background": "light"
     },
     "output_type": "display_data"
    }
   ],
   "source": [
    "lines = [el[0] for el in tramcounts]\n",
    "count = [el[1] for el in tramcounts]\n",
    "sns.barplot(x=lines, y=count, color=\"yellow\")"
   ]
  },
  {
   "cell_type": "code",
   "execution_count": 68,
   "metadata": {},
   "outputs": [],
   "source": [
    "ubahncounts = list(filter(lambda tup: tup[0][0] == \"U\", sorted_totalmatches))[:10]"
   ]
  },
  {
   "cell_type": "code",
   "execution_count": 69,
   "metadata": {},
   "outputs": [
    {
     "data": {
      "text/plain": [
       "<matplotlib.axes._subplots.AxesSubplot at 0x7fb514fed438>"
      ]
     },
     "execution_count": 69,
     "metadata": {},
     "output_type": "execute_result"
    },
    {
     "data": {
      "image/png": "[encoded data removed]",
      "text/plain": [
       "<Figure size 1080x360 with 1 Axes>"
      ]
     },
     "metadata": {
      "needs_background": "light"
     },
     "output_type": "display_data"
    }
   ],
   "source": [
    "lines = [el[0] for el in ubahncounts]\n",
    "count = [el[1] for el in ubahncounts]\n",
    "sns.barplot(x=lines, y=count, color=\"lightblue\")"
   ]
  },
  {
   "cell_type": "code",
   "execution_count": 39,
   "metadata": {},
   "outputs": [
    {
     "data": {
      "text/plain": [
       "12169"
      ]
     },
     "execution_count": 39,
     "metadata": {},
     "output_type": "execute_result"
    }
   ],
   "source": [
    "sum(count)"
   ]
  },
  {
   "cell_type": "code",
   "execution_count": null,
   "metadata": {},
   "outputs": [],
   "source": []
  }
 ],
 "metadata": {
  "kernelspec": {
   "display_name": "Python 3",
   "language": "python",
   "name": "python3"
  },
  "language_info": {
   "codemirror_mode": {
    "name": "ipython",
    "version": 3
   },
   "file_extension": ".py",
   "mimetype": "text/x-python",
   "name": "python",
   "nbconvert_exporter": "python",
   "pygments_lexer": "ipython3",
   "version": "3.7.3"
  }
 },
 "nbformat": 4,
 "nbformat_minor": 2
}
